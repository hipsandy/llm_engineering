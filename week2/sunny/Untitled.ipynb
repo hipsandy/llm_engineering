{
 "cells": [
  {
   "cell_type": "code",
   "execution_count": 9,
   "id": "1c93f465-4866-4970-abd1-8015cc8fa153",
   "metadata": {},
   "outputs": [
    {
     "name": "stdout",
     "output_type": "stream",
     "text": [
      "i is 1\n",
      "1\n",
      "i is 2\n",
      "2\n",
      "i is 3\n",
      "3\n",
      "i is 4\n",
      "4\n"
     ]
    }
   ],
   "source": [
    "def gen_function():\n",
    "    for i in range (1,5):\n",
    "        print(f\"i is {i}\")\n",
    "        yield i\n",
    "\n",
    "it = gen_function()\n",
    "for t in it:\n",
    "    print(t)"
   ]
  },
  {
   "cell_type": "code",
   "execution_count": 25,
   "id": "9b3c03c5-fb2b-4809-85d8-eafef38fb65f",
   "metadata": {},
   "outputs": [
    {
     "name": "stdout",
     "output_type": "stream",
     "text": [
      "yielding now. i is 0\n",
      "0\n",
      "yielding now. i is 1\n",
      "1\n",
      "yielding now. i is 2\n",
      "2\n",
      "yielding now. i is 3\n",
      "3\n",
      "yielding now. i is 4\n",
      "4\n",
      "yielding now. i is 5\n",
      "5\n",
      "yielding now. i is 6\n",
      "6\n",
      "yielding now. i is 7\n",
      "7\n",
      "yielding now. i is 8\n",
      "8\n",
      "yielding now. i is 9\n",
      "9\n",
      "yielding now. i is 10\n",
      "10\n",
      "yielding now. i is 11\n",
      "11\n"
     ]
    }
   ],
   "source": [
    "def generator():\n",
    "    i=0\n",
    "    while (True):\n",
    "        print(f\"yielding now. i is {i}\")\n",
    "        yield i\n",
    "        i += 1\n",
    "\n",
    "it = generator()\n",
    "for i in it:\n",
    "    print(i)\n",
    "    if i > 10:\n",
    "        break\n"
   ]
  }
 ],
 "metadata": {
  "kernelspec": {
   "display_name": "Python 3 (ipykernel)",
   "language": "python",
   "name": "python3"
  },
  "language_info": {
   "codemirror_mode": {
    "name": "ipython",
    "version": 3
   },
   "file_extension": ".py",
   "mimetype": "text/x-python",
   "name": "python",
   "nbconvert_exporter": "python",
   "pygments_lexer": "ipython3",
   "version": "3.11.11"
  }
 },
 "nbformat": 4,
 "nbformat_minor": 5
}
