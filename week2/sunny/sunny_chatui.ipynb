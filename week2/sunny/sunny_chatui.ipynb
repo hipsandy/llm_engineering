{
 "cells": [
  {
   "cell_type": "code",
   "execution_count": 18,
   "id": "b208db7a-ae41-4ef4-8e08-92220542522e",
   "metadata": {},
   "outputs": [],
   "source": [
    "# imports\n",
    "\n",
    "import os\n",
    "from dotenv import load_dotenv\n",
    "from openai import OpenAI\n",
    "import gradio as gr\n",
    "import time"
   ]
  },
  {
   "cell_type": "code",
   "execution_count": 2,
   "id": "f2f9378f-26f2-44b9-bca3-43e1e30bcbb0",
   "metadata": {},
   "outputs": [
    {
     "name": "stdout",
     "output_type": "stream",
     "text": [
      "opeanai API key found and starts with sk-pr\n",
      "Anthropic API Key not set\n",
      "Google API Key exists and begins AIzaSyC4\n"
     ]
    }
   ],
   "source": [
    "# Load the API keys from the env file\n",
    "load_dotenv()\n",
    "\n",
    "openai_api_key = os.getenv('OPENAI_API_KEY')\n",
    "anthropic_api_key = os.getenv('ANTHROPIC_API_KEY')\n",
    "google_api_key = os.getenv('GOOGLE_API_KEY')\n",
    "\n",
    "if openai_api_key:\n",
    "    print(f\"opeanai API key found and starts with {openai_api_key[:5]}\")\n",
    "else:\n",
    "    print(\"Openai API key not set\")\n",
    "\n",
    "if anthropic_api_key:\n",
    "    print(f\"Anthropic API Key exists and begins {anthropic_api_key[:7]}\")\n",
    "else:\n",
    "    print(\"Anthropic API Key not set\")\n",
    "\n",
    "if google_api_key:\n",
    "    print(f\"Google API Key exists and begins {google_api_key[:8]}\")\n",
    "else:\n",
    "    print(\"Google API Key not set\")"
   ]
  },
  {
   "cell_type": "code",
   "execution_count": 25,
   "id": "5fbdbab6-36ce-46cc-8ceb-a7a51ac8cf42",
   "metadata": {},
   "outputs": [
    {
     "name": "stdout",
     "output_type": "stream",
     "text": [
      "* Running on local URL:  http://127.0.0.1:7932\n",
      "\n",
      "To create a public link, set `share=True` in `launch()`.\n"
     ]
    },
    {
     "data": {
      "text/html": [
       "<div><iframe src=\"http://127.0.0.1:7932/\" width=\"100%\" height=\"500\" allow=\"autoplay; camera; microphone; clipboard-read; clipboard-write;\" frameborder=\"0\" allowfullscreen></iframe></div>"
      ],
      "text/plain": [
       "<IPython.core.display.HTML object>"
      ]
     },
     "metadata": {},
     "output_type": "display_data"
    },
    {
     "data": {
      "text/plain": []
     },
     "execution_count": 25,
     "metadata": {},
     "output_type": "execute_result"
    },
    {
     "name": "stdout",
     "output_type": "stream",
     "text": [
      "message is: hi\n",
      "history is: []\n"
     ]
    }
   ],
   "source": [
    "# Use gradio to create the chat interface\n",
    "def chat(message, history):\n",
    "    print(f\"message is: {message}\")\n",
    "    print(f\"history is: {history}\")\n",
    "    resp=['idk', 'what', 'to', 'say', '!!!!']\n",
    "    msg=''\n",
    "    for r in resp:\n",
    "        time.sleep(2)\n",
    "        msg += ' '+r\n",
    "        yield msg\n",
    "        \n",
    "\n",
    "gr.ChatInterface(\n",
    "    fn=chat,\n",
    "    type='messages'\n",
    "    # type='tuples'\n",
    ").launch()"
   ]
  }
 ],
 "metadata": {
  "kernelspec": {
   "display_name": "Python 3 (ipykernel)",
   "language": "python",
   "name": "python3"
  },
  "language_info": {
   "codemirror_mode": {
    "name": "ipython",
    "version": 3
   },
   "file_extension": ".py",
   "mimetype": "text/x-python",
   "name": "python",
   "nbconvert_exporter": "python",
   "pygments_lexer": "ipython3",
   "version": "3.11.11"
  }
 },
 "nbformat": 4,
 "nbformat_minor": 5
}
